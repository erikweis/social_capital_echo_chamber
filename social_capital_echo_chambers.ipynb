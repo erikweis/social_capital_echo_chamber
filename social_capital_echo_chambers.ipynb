{
 "cells": [
  {
   "cell_type": "markdown",
   "metadata": {},
   "source": [
    "<br>\n",
    "<h1>Social Capital Incentives and Echo Chamber Formation in Social Media<h1>"
   ]
  },
  {
   "cell_type": "markdown",
   "metadata": {},
   "source": [
    "The model published in [Sasahara et. al (2019)](https://arxiv.org/abs/1905.03919) describes the formation echo chambers through two processes: 1) social influence and 2) node rewiring. With certain parameters tuned, the model will converges to two or three echo chambers, completely separate network components which converge to a homogenous collective opinion. The goal of this work is to first explore other processes by which may mitigate this process:\n",
    "- What processes allow the simulation to exist in a quasi-steady state?\n",
    "- What interventions affect this steady state?\n",
    "\n",
    "To accomplish this, additional incentives are added to the behavior of agents. These incentives will counteract the forces of rewiring and social influence, both of which tend to draw agents towards the mean of their group. The modifications are based on the concept of power: 1) agents desire to increase their social capital and 2) agents are asymetrically influenced by their peers based on the relative power of those peers.\n",
    "\n",
    "These incentives seem to be intuitive additions to the behavior of agents. Strong personal networks add personal value and are desirable; people want friends, business connects, etc. and are willing to tolerate some degree of difference for their own benefit. In essence, there is power in networks. An alternative view of this incentive is to introduce a cost of not joining the network. One would alienate onesself by holding extreme views publicly. If most people can tolerate some difference in their lives, an extreme opinion holder must balance their opinion to take advantage of the network and build social capital. For this reason, the existence of a private opinion is also introduced, whereby an agent will modify their outward-facing opinion based on their social surroundings."
   ]
  },
  {
   "cell_type": "markdown",
   "metadata": {},
   "source": [
    "# The Model\n",
    "\n",
    "Like in the original model of Sasahara *et al* (2019), each agent is initialized with an opinion from $(-1,1)$. Over time, $V$ agents with $E$ links post messages and are influenced by the most recent $l$ messages of people they follow. At each time step, an agent is selected at random. The agent's opinion is modified by a factor of $\\mu$ times the average opinion value of messages within the agent's confidence bound.  With probability $p$, the agent will post a new message and otherwise share one message on their screen that falls within the agent's confidence bound $\\epsilon$. Additionally, with probabiltity $q$, an agent will unfollow the poster of a message that falls outside their confidence bound. The choice of who to unfollow a random choice of three methods: 1) random, 2) following based on a recommendation of similar users, and 3) following the original poster of a reposted message on the screen.\n",
    "\n",
    "The parameters used here are $V=100$, $E=400$, $\\epsilon=0.7$, $\\mu=0.5$, $p=0.5$, $q=0.5$, and $l=10$.\n",
    "\n",
    "## Modifications to the Model\n",
    "\n",
    "The updates to this model involve a variety of additional parameters, on top of those already explored in Sahara *et al* 2019. \n",
    "\n",
    "We introduce a new goal for the agent: to develop powerful connections. This means achieving a network of well-connected people. Agents will try to build relationships with people within their opinion range which also have strong connections amongst themselves. This manifests in several processes that take place:\n",
    "- **Unfollowing.** Agents have a decereased likelihood of unfollowing a high-degree node. At each step, an agent may choose to rewire a relationship with probability $q$. If they elect to do this, all agents outside their opinion range are potential candidates for unfollowing. The choice amongst possible unfollowees is weighted by degree. This decentivizes the unfollowing of powerful connections.\n",
    "- **Reciprocation.** Agents have an increased likelihood reciprocating relationships that add value. If someone with high-degree follows an agent, that agent will likely follow them back. In this case, the agent unfollows their lowest-degree node, to maintain the number of links in then network.\n",
    "- **Following.** In choosing new relationships, an agent should choose ones that add power to their network. Amongst any list of choices for an agent to follow, the selection is weighted by the out-degree of the choices.\n",
    "- **Posting.** While agents hold an initialized private opinion, their outward-facing posts are based on their external or public-facing opinion. \n",
    "\n",
    "The addition of a public and private opinion facilitates the cooperation of agents with different views. While two agents may express the same view publicly, their underlying opinion may be different.  The public opinion is determined by rectifying two conflicting forces, the internal pull towards the private opinion and the public force of social influence. This formulation decentivizes extreme opinions. More explicitly:\n",
    "- **internal force**: given by $F_{int}=k_{int}|\\Delta x|=k_{int}|x_{public}-x_{private}|$. This parameter $k_{int}$ can be thought of as a spring constant. For these simulations, $k_{int}=0.2$\n",
    "- **external force**: given by $F_{ext}=\\mu*(\\text{ weighted average of concordant messages})$. Unlike the original model, this average is weighted by the out-degree (# of followers) of the users of the messages.\n",
    "- **damping**: the competting forces leads to continuous oscillations as the forces overshoot the temporary equilibrium. Damping the change at each step minimizes this effect. For these simulations, the damping coefficient is $0.5$.\n",
    "\n",
    "The resulting change in opinion at each iteration of the simulation is\n",
    "$$0.5*F_{net}=0.5(F_{int}+F_{ext})$$\n",
    "\n",
    "Additionally, adjustments are made to the rewiring decisions of agents:\n",
    "- **Reciprocation.** An agent may decide to follow-back someone who follows them. This decision is based on the ratio $r$ of the out-degree of the follower to the average of the out-degree of the current followers of $a$. If $a$ follows many powerful people already, a medium-level node might not be a worthwhile follow. However, to a node which follows comparatively few powerful people, this node is a relationship worth reciprocating. For this model, a relationship is reciprocated for all $r>3$. \n",
    "- **Rewiring.** The original model discusses three different methods for rewiring nodes. Each of these three methods, the choice is weighted by out-degree."
   ]
  },
  {
   "cell_type": "markdown",
   "metadata": {},
   "source": [
    "## The Initial Network and Opinion State\n",
    "\n",
    "To allow for the dynamics described above to take place, the network requires a greater variation in degrees. The first change is to use a configuration model which initializes from a power law out-degree sequence and random in-degree sequence.\n",
    "\n",
    "Additionally, the distribution of opinions is no longer uniform. Instead, opinions are selected from a normal distribution, so that agents are less likely to hold extreme opinions initially. The normal distribution ($\\sigma=0.6$) is truncated to avoid opinions outside (-1,1). Additionally, extra care is taken to ensure that agents with high out-degree have relatively more-neutral opinions. As strong influencers, their central position creates a well-organized state. Nodes with out degree $d_{out}>5$ are chosen from a distribution with $\\sigma/2$. Agents with $d_{out}>10$ are fitted to a distribution $\\sigma/4$. While this decision is chosen adhoc to encourage splits immediately after the simulation starts, the assertion is not entirely unjustified. It is reasonable to suggest that agents with many connections became well-connected not by holding extreme opinions but by falling within the opinion bound of many other agents."
   ]
  },
  {
   "cell_type": "markdown",
   "metadata": {},
   "source": [
    "## Quasi-Steady State\n",
    "\n",
    "With these paraemeters in place. The quickly converges to a steady steady state, whereby the forces \"equilibrate\". After this, the general opinion distribution of the model seems to be somewhat steady. While small fluctations occur and individual nodes make significant shifts, the general distribution is largely constant.\n",
    "\n",
    "<img src='images/quasi_steady_state/opinions_plot.png' width=800>"
   ]
  },
  {
   "cell_type": "markdown",
   "metadata": {},
   "source": [
    "## Network Evolution of the Quasi-Steady State\n",
    "\n",
    "Though the general distribution of opinions appears relatively stable, the structure of the network changes as the model evolves. In particular, the we see a shift towards communities with more homogenous opinions than at the start, and a decreasing communication between alternative points of view.\n",
    "\n",
    "<table>\n",
    "    <tr>\n",
    "        <td>$t=0$<img src='images/quasi_steady_state/graph_0.png' width=500></td>\n",
    "        <td>$t=10000$<img src='images/quasi_steady_state/graph_10000.png' width=500></td>\n",
    "    </tr>\n",
    "    <tr>\n",
    "        <td>$t=20000$<img src='images/quasi_steady_state/graph_20000.png' width=500></td>\n",
    "        <td>$t=25000$<img src='images/quasi_steady_state/graph_24999.png' width=500></td>\n",
    "    </tr>\n",
    "</table>\n",
    "\n",
    "This can be seen by analyzing the community structure of the network periodically. This is done using the highest-modularity partiion of the Girvan-Newman algorithm. The more opaque colors represent stronger communities (measured by the ratio of internal and external links), and the color is chosen by the average opinion of the community.\n",
    "\n",
    "<img src='images/quasi_steady_state/communities.png' width=800>"
   ]
  },
  {
   "cell_type": "markdown",
   "metadata": {},
   "source": [
    "# Intervention: Decrease in Bounded Confidence\n",
    "\n",
    "We introduce a heightening of political fervor and sudden increase in the use of polarizing language. This change is exogenous to the system, and modelled as a temporary decrease in the bounded confidence parameter $\\epsilon$. For a time interval $T$, $\\epsilon$ is reduced to $\\epsilon=0.5$. The change produces an irreversible change in the model behavior. In the following image, the intervention is $\\Delta\\epsilon=-0.3$ and $T=10000$. The intervention has an irreversible effect on the system, leading to the rapid formation of echo chambers.\n",
    "\n",
    "<img src='images/opinions_plot_intervention.png' width=800>"
   ]
  },
  {
   "cell_type": "markdown",
   "metadata": {},
   "source": [
    "The following graph shows how the degree of the most-followed agents is affected by the change in $\\epsilon$ at $t=10000$. Some agents benefit from the bifurcation, and others do not.\n",
    "\n",
    "<img src='images/degree_history.png' width=600>"
   ]
  },
  {
   "cell_type": "markdown",
   "metadata": {},
   "source": [
    "## Network Evolution with Intervention\n",
    "\n",
    "Unlike with the quasi-steady state, the network experiences a qualitative shift in topology with the intervention. Isolated echo chambers form much more readily in this case.\n",
    "\n",
    "<table>\n",
    "    <tr>\n",
    "        <td>$t=0$<img src='images/graph_0.png' width=500></td>\n",
    "        <td>$t=10000$<img src='images/graph_10000.png' width=500></td>\n",
    "    </tr>\n",
    "    <tr>\n",
    "        <td>$t=20000$<img src='images/graph_20000.png' width=500></td>\n",
    "        <td>$t=25000$<img src='images/graph_24999.png' width=500></td>\n",
    "    </tr>\n",
    "</table>\n"
   ]
  },
  {
   "cell_type": "markdown",
   "metadata": {},
   "source": [
    "The community structure produces a few isolated communities, with fewer connections between them. In general, the middle-ground opinions largely disappear between the two echo-chambers.\n",
    "\n",
    "<img src='images/communities.png' width=800>"
   ]
  },
  {
   "cell_type": "markdown",
   "metadata": {},
   "source": [
    "# Analysis\n",
    "\n",
    "The quasi-steady state is hardly stable. The formation of communities still occurs readily, despite a relative stability of the opinion distribution. The private and public opinion forces ensure that the opinions of these communities do not completely converge, and because of this, interaction can occur between groups. The steady state depends significantly on the initial opinions of high-degree nodes. this skew produces some different results.\n",
    "\n",
    "<table>\n",
    "    <tr>\n",
    "        <td><img src='images/ss_comparison/opinions_plot_58.png' width=400></td>\n",
    "        <td><img src='images/ss_comparison/opinion_distribution_58.png' width=400></td>\n",
    "    </tr>\n",
    "    <tr>\n",
    "        <td><img src='images/ss_comparison/opinions_plot_56.png' width=400></td>\n",
    "        <td><img src='images/ss_comparison/opinion_distribution_56.png' width=400></td>\n",
    "    </tr>\n",
    "    <tr>\n",
    "        <td><img src='images/ss_comparison/opinions_plot_59.png' width=400></td>\n",
    "        <td><img src='images/ss_comparison/opinion_distribution_59.png' width=400></td>\n",
    "    </tr>\n",
    "    <tr>\n",
    "        <td><img src='images/ss_comparison/opinions_plot_60.png' width=400></td>\n",
    "        <td><img src='images/ss_comparison/opinion_distribution_60.png' width=400></td>\n",
    "    </tr>\n",
    "</table>\n",
    "\n",
    "As a result, the intervention produces different outcomes depending on the initial distribution. Generally, however, it appears that if the central community is very strong, for example if the opinion distribution had a very narrow standard deviation, the central community will remain. With an very wide opinion distribution, several opinion clusters emerge almost immediately. With a well-tuned initial distribution, it seems a critical state exists, whereby the agents could exist in one of two situations."
   ]
  },
  {
   "cell_type": "markdown",
   "metadata": {},
   "source": [
    "# Further Areas for Exploration\n",
    "\n",
    "It is currently not obvious what stationary states exist under the wide variety of possible parameter choices. The initial opinion distribution and a power-law out-degree distribution seem to be important to how the model converges initially. High-degree agents with sufficiently far-from-center opinions can establish factions which persist and solidify. \n",
    "\n",
    "The width of the opinion range of the steady state appears limitted to the bounded confidence parameter $\\epsilon$. Under what conditions could a steady state exist where the opinion range is broader? For instance, it seems practical that one migth not understand where the other side is coming from, but is willing to engage with moderate positions.\n",
    "\n",
    "This model allows no room the for a change in the private opinion of agents. We might reasonablely assume that private opinions might change more slowly than public ones. It is clear that many similar public states could beahve very differently depending on the private opinions of the model's agents. Many variants of the change of private opinion are possible. Dependence of on the history of a public opinion could lead to complex behavior.\n",
    "\n",
    "The current metric to judge social capital is the number of an agent's followers. Other descriptions might include the average out-degree of an agent's followers, or possibly some centrality measures.\n",
    "\n",
    "Some aspects of this model might lend themselves to an multilayer description. The current directed discription does not distinguish between a friendship and and one-directional follower-followee relationship. In particular, unwiring is rare for extremely high-degree nodes. While it would be rare for an agent to ditch her highly influential friend, it would be relatively inconsequential to unfollow a controversial celebrity. It could be useful to distinguish between these types of relationships.\n",
    "\n",
    "It is unlikely that individual agents can perceive the out-degree of agents directly. How would the model change if observations of social capital were relative, made according to a ranking.\n",
    "\n",
    "Lastly, how could such a network form in the first place under the bounded social influence and rewiring model?"
   ]
  },
  {
   "cell_type": "markdown",
   "metadata": {},
   "source": [
    "# Citations\n",
    "\n",
    "1. Sasahara, Chen et. al. On the inevitability of online echo chambers (2019) https://arxiv.org/abs/1905.03919\n",
    "2. Huang, Wen. A novel private attitude and public opinion dynamics model for simulating pluralistic ignorance and minority influence (2014) http://jasss.soc.surrey.ac.uk/17/3/8.html\n",
    "3. Holme, Newman. Nonequilibrium phase transition in the coevolution of networks and opinions (2006) https://arxiv.org/abs/physics/0603023\n",
    "4. Menczer, Fortunato, Davis. A First Course in Network Science (2019) \n",
    "\n"
   ]
  }
 ],
 "metadata": {
  "kernelspec": {
   "display_name": "Python 3",
   "language": "python",
   "name": "python3"
  },
  "language_info": {
   "codemirror_mode": {
    "name": "ipython",
    "version": 3
   },
   "file_extension": ".py",
   "mimetype": "text/x-python",
   "name": "python",
   "nbconvert_exporter": "python",
   "pygments_lexer": "ipython3",
   "version": "3.7.6"
  }
 },
 "nbformat": 4,
 "nbformat_minor": 4
}
